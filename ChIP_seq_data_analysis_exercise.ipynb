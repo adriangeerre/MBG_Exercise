{
  "nbformat": 4,
  "nbformat_minor": 0,
  "metadata": {
    "colab": {
      "name": "ChIP-seq_data_analysis_exercise.ipynb",
      "provenance": [],
      "collapsed_sections": []
    },
    "kernelspec": {
      "display_name": "Python 3",
      "name": "python3"
    },
    "language_info": {
      "name": "python"
    }
  },
  "cells": [
    {
      "cell_type": "markdown",
      "metadata": {
        "id": "WveUqKnreQKr"
      },
      "source": [
        "**Short introduction to ChIP-seq data analysis**\n",
        "\n",
        "ChIP-seq (Chromatin immunoprecipitation followed by high-throughput sequencing ) has become the most used technology for the identification of target sites for DNA-binding proteins.\n",
        "\n",
        " In this small exercise, we will be working with 2 transcription factors: TATA-binding protein and NF-YA (Nuclear transcription factor Y subunit alpha). We will try to identify binding site in the human genome for these 2 transcription factors using a bioinformatic approach."
      ]
    },
    {
      "cell_type": "markdown",
      "metadata": {
        "id": "TPJv3PHVeWgE"
      },
      "source": [
        "\n",
        "A few introductory points:\n",
        "\n",
        "\n",
        "*   You can run the code in each cell by clicking on the run cell sign, when the code finished running a small green check sign will appear on the left side  \n",
        "*   You need to run the cells in **sequential order**, please do not run a cell until the one above finished running and do not skip any cells\n",
        "*   Each cell contains a short description of the code and the output you should get. Please try not to focus on understanding what each command line does, this is not the purpose of the exercise\n"
      ]
    },
    {
      "cell_type": "markdown",
      "metadata": {
        "id": "Sx0qUUyfgBnO"
      },
      "source": [
        "**Install and import the packages necessary to run this python notebook**\n",
        "*   Running the cell below will install all the necessary programs that you will  be using, this might take some time, approximately 10 min (Please ignore all the messages you see when installing the various packages)\n",
        "*   You can use this time to go over the ChiP-seq introduction you were presented in the course"
      ]
    },
    {
      "cell_type": "code",
      "metadata": {
        "id": "H1-h7yff2kCZ"
      },
      "source": [
        "#Install all the necessary programs and packages \n",
        "!sudo apt -qq install bowtie2\n",
        "!yes | pip install macs3\n",
        "!sudo apt-get -qq install -y samtools\n",
        "#!yes | pip install deeptools\n",
        "!wget https://repo.anaconda.com/miniconda/Miniconda3-latest-Linux-x86_64.sh -q\n",
        "!bash Miniconda3-latest-Linux-x86_64.sh -b -q -p /content/miniconda\n",
        "!rm /content/Miniconda3-latest-Linux-x86_64.sh\n",
        "!/content/miniconda/bin/conda config --add channels bioconda\n",
        "!/content/miniconda/bin/conda config --add channels conda-forge\n",
        "!/content/miniconda/bin/conda create --name myenv -y -q\n",
        "!/content/miniconda/bin/conda install -n myenv R -y -q\n",
        "!/content/miniconda/bin/conda install -n myenv -c bioconda bioconductor-chipseeker bioconductor-txdb.hsapiens.ucsc.hg38.knowngene -q -y"
      ],
      "execution_count": null,
      "outputs": []
    },
    {
      "cell_type": "markdown",
      "metadata": {
        "id": "eAVWjWE-JORl"
      },
      "source": [
        "**Download the datasets**\n",
        "\n",
        "The command lines below will download the raw data you will be working with. The files are stored in a GitHub repository. You will be working with 2 small ChIP-seq experiments. One library for the TATA-binding protein (TBP) and the other for the NF-YA transcription factor. We will be using as reference a small portion of the human genome, only the first 10 Mbp of Chromosome 1.\n",
        "\n",
        "*   You can check the downloaded files on the left panel, by clicking on \"Files\" tab and navigating to the data folder.\n",
        "*   Sequenced reads are saved in .fastq files, while the genome data is stored in a .fasta file."
      ]
    },
    {
      "cell_type": "code",
      "metadata": {
        "id": "8cuLRWN9FIeM"
      },
      "source": [
        "!rm -r sample_data/\n",
        "!rm -f data\n",
        "!git clone https://github.com/LaviFechete/MBG_Exercises.git data"
      ],
      "execution_count": null,
      "outputs": []
    },
    {
      "cell_type": "markdown",
      "metadata": {
        "id": "bTKdrrE2jc4m"
      },
      "source": [
        "**Data Analysis**"
      ]
    },
    {
      "cell_type": "markdown",
      "metadata": {
        "id": "Oq8numEOkAYY"
      },
      "source": [
        "We will now analyse the data to identify binding sites for our 2 transcription factors.\n",
        "\n",
        "\n",
        "---\n",
        "\n",
        "\n",
        "Initial parts of the analysis of sequenced reads include **read alignment, filtering and peak calling**.\n",
        "\n",
        "> We will use the program called Bowtie2 to align the reads in the 2 .fastq files to our reference sequence (10 Mbp of the human genome). This will help us determine where on the human genome our reads originated from.\n",
        "\n",
        "> Afterwards, we will keep only the reads that mapped with high quality to the part of the human genome we are interested in. We will use the samtools program for this step.\n",
        "\n",
        "> The output will be 2 alignment files (.bam). We will use these files in the next steps.\n",
        "\n",
        "\n"
      ]
    },
    {
      "cell_type": "code",
      "metadata": {
        "id": "MXoI46JsrDQE"
      },
      "source": [
        "!mkdir bowtie_index\n",
        "!bowtie2-build /content/data/NC_000001.11_subset.fasta bowtie_index/Chr1_index\n",
        "\n",
        "!mkdir bowtie2_results\n",
        "!bowtie2 -q --local \\\n",
        "-x  bowtie_index/Chr1_index \\\n",
        "-U /content/data/TBP_chr1_subset.fastq \\\n",
        "-S bowtie2_results/TBP_chr1.sam\n",
        "\n",
        "!bowtie2 -q --local \\\n",
        "-x  bowtie_index/Chr1_index \\\n",
        "-U /content/data/NF-YA_chr1_subset.fastq \\\n",
        "-S bowtie2_results/NF-YA_chr1.sam\n",
        "\n",
        "!samtools view -q 10 -u bowtie2_results/TBP_chr1.sam | samtools sort -o bowtie2_results/TBP_chr1_sorted.bam\n",
        "!samtools view -q 10 -u bowtie2_results/NF-YA_chr1.sam | samtools sort -o bowtie2_results/NF-YA_chr1_sorted.bam \n",
        "!samtools index bowtie2_results/TBP_chr1_sorted.bam\n",
        "!samtools index bowtie2_results/NF-YA_chr1_sorted.bam "
      ],
      "execution_count": null,
      "outputs": []
    },
    {
      "cell_type": "markdown",
      "metadata": {
        "id": "uYup0J7GkiiH"
      },
      "source": [
        "**Peak calling**\n",
        "\n",
        "We can now identify binding sites for the transcription factors, these are also called peaks. These are just regions in the genome where a high number of reads are bound, indicating that the region might be a transcription factor binding site.\n",
        "\n",
        "> We will use the program macs3 to call peaks for the 2 previously generated alignment files. \n",
        "\n",
        "\n",
        "![alt text](https://hbctraining.github.io/Intro-to-ChIPseq/img/plos_chipseq_arrow.png)"
      ]
    },
    {
      "cell_type": "code",
      "metadata": {
        "id": "IljKmW2XLCza"
      },
      "source": [
        "!mkdir macs3_results\n",
        "!macs3 callpeak -t /content/bowtie2_results/TBP_chr1_sorted.bam -f BAM -g 10000000 --outdir /content/macs3_results/ -m 1 100 -n TBP --verbose 0\n",
        "!macs3 callpeak -t /content/bowtie2_results/NF-YA_chr1_sorted.bam -f BAM -g 10000000 --outdir /content/macs3_results/ -m 1 100 -n NF-YA --verbose 0"
      ],
      "execution_count": null,
      "outputs": []
    },
    {
      "cell_type": "markdown",
      "metadata": {
        "id": "Jl7x9JblwgiJ"
      },
      "source": [
        "The cell below gives a summary of the number of binding sites identified for each of the 2 transcription factors. \n",
        "\n",
        "> Are the number of peaks identified for TBP and NF-YA similar?\n",
        "\n"
      ]
    },
    {
      "cell_type": "code",
      "metadata": {
        "id": "10WaRbh6o8L1"
      },
      "source": [
        "!wc -l /content/macs3_results/*.narrowPeak"
      ],
      "execution_count": null,
      "outputs": []
    },
    {
      "cell_type": "markdown",
      "metadata": {
        "id": "SXxC9iQWyeZW"
      },
      "source": [
        "**IGV genome browser**\n",
        "\n",
        "We will now download all the data generated so far and upload it to a genome browser, to visualize the mapped reads and the binding sites for the transcription factors. \n",
        "\n",
        "> Run the cell below and pick a place on your computer where to save the .zip file. Find the file on your computer and extract the archive. You should name have a folder named IGV_files, which contains 6 files.\n",
        "\n",
        "> Open the link: https://igv.org/app/\n",
        "\n",
        "> Click on the \"Tracks\" tab and then on \"Local file...\". Navigate to the place where you saved the \"IGV_files\" folder on your computer and pick all 6 files in the foler. Click open.\n",
        "\n",
        "\n",
        "> You can now visualize all the comparatively the ChiPSeq reads mapped to the genome, the gene annotations and the peaks called my macs3. Remember we are only working with the first 10 Mbp of chromosome 1, Zoom in on that region.\n",
        "\n",
        "There are two tracks, one for NF-YA and one for TBP. Try to identify some of the putative binding sites(regions with a high number of aligned reads) for the transcription factors. \n",
        "\n",
        "\n",
        "\n",
        "\n",
        "\n",
        "\n",
        "\n"
      ]
    },
    {
      "cell_type": "code",
      "metadata": {
        "id": "6-ajHG_o6Y5d"
      },
      "source": [
        "#Files for IGV\n",
        "!mkdir IGV_files\n",
        "!cp /content/bowtie2_results/NF-YA_chr1_sorted.bam /content/IGV_files/NF-YA_chr1_sorted.bam\n",
        "!cp /content/bowtie2_results/NF-YA_chr1_sorted.bam.bai /content/IGV_files/NF-YA_chr1_sorted.bam.bai\n",
        "!cp /content/bowtie2_results/TBP_chr1_sorted.bam /content/IGV_files/TBP_chr1_sorted.bam\n",
        "!cp /content/bowtie2_results/TBP_chr1_sorted.bam.bai  /content/IGV_files/TBP_chr1_sorted.bam.bai\n",
        "!cp /content/macs3_results/NF-YA_peaks.narrowPeak /content/IGV_files/NF-YA_peaks.narrowPeak\n",
        "!cp /content/macs3_results/TBP_peaks.narrowPeak /content/IGV_files/TBP_peaks.narrowPeak\n",
        "\n",
        "!zip -r IGV_files.zip IGV_files\n",
        "from google.colab import files\n",
        "files.download(\"IGV_files.zip\")"
      ],
      "execution_count": null,
      "outputs": []
    },
    {
      "cell_type": "markdown",
      "metadata": {
        "id": "9TH7FWyuFpj0"
      },
      "source": [
        "We will now do some analyses in order to compare the TBP and NF-YA transcription factors using the\n",
        "\n",
        " **ChIPseeker package in R**"
      ]
    },
    {
      "cell_type": "markdown",
      "metadata": {
        "id": "6lw5nKa86m5o"
      },
      "source": [
        "Load R "
      ]
    },
    {
      "cell_type": "code",
      "metadata": {
        "id": "1LSjuCqEpno6"
      },
      "source": [
        "%load_ext rpy2.ipython\n",
        "from rpy2.rinterface_lib.callbacks import logger as rpy2_logger\n",
        "import logging\n",
        "rpy2_logger.setLevel(logging.ERROR)"
      ],
      "execution_count": null,
      "outputs": []
    },
    {
      "cell_type": "markdown",
      "metadata": {
        "id": "taDrlSMl6rAg"
      },
      "source": [
        "Import the packages we will be using "
      ]
    },
    {
      "cell_type": "code",
      "metadata": {
        "id": "roI54zdwN1To"
      },
      "source": [
        "%%R\n",
        ".libPaths( c( .libPaths(), \"/content/miniconda/envs/myenv/lib/R/library\"))\n",
        "install.packages(\"graphlayouts\")\n",
        "library(ChIPseeker)\n",
        "library(TxDb.Hsapiens.UCSC.hg38.knownGene)\n",
        "txdb <- TxDb.Hsapiens.UCSC.hg38.knownGene"
      ],
      "execution_count": null,
      "outputs": []
    },
    {
      "cell_type": "markdown",
      "metadata": {
        "id": "s8cJf3Mn6xeJ"
      },
      "source": [
        "Load the data we previously generated"
      ]
    },
    {
      "cell_type": "code",
      "metadata": {
        "id": "9Og4Gjoz1ZrZ"
      },
      "source": [
        "%%R\n",
        "# Load data\n",
        "TBP <- read.delim(\"/content/macs3_results/TBP_summits.bed\", header=F)\n",
        "TBP$V1 <- \"chr1\"\n",
        "NF_YA <- read.delim(\"/content/macs3_results/NF-YA_summits.bed\", header=F)\n",
        "NF_YA$V1 <- \"chr1\"\n",
        "write.table(TBP, \"/content/macs3_results/TBP_renamed.bed\", sep=\"\\t\", row.names=F, col.names=F, quote=F)\n",
        "write.table(NF_YA, \"/content/macs3_results/NF-YA_renamed.bed\", sep=\"\\t\", row.names=F, col.names=F, quote=F)\n",
        "samplefiles <- list(\"/content/macs3_results/TBP_renamed.bed\", \"/content/macs3_results/NF-YA_renamed.bed\")\n",
        "names(samplefiles) <- c(\"TBP\", \"NF_YA\")"
      ],
      "execution_count": null,
      "outputs": []
    },
    {
      "cell_type": "markdown",
      "metadata": {
        "id": "00tUGBGD7FHs"
      },
      "source": [
        "In the IGV browser, you visualized the aligned reads and peaks over small regions of the reference sequence. \n",
        "\n",
        "Now, we would like to know the peak locations over the whole 10 MBp from the human genome. We can do this by generating a coverage plot. Each vertical line represents a binding site. You can observe that TBP has many more peaks called compared with NF-YA."
      ]
    },
    {
      "cell_type": "code",
      "metadata": {
        "id": "MzfDNBHw3BZ7"
      },
      "source": [
        "%%R\n",
        "print(covplot(samplefiles$TBP, weightCol=\"V5\", title = \"ChIP Peaks over region - TBP\"))\n",
        "print(covplot(samplefiles$NF_YA, weightCol=\"V5\", title = \"ChIP Peaks over region - NF-YA\"))"
      ],
      "execution_count": null,
      "outputs": []
    },
    {
      "cell_type": "markdown",
      "metadata": {
        "id": "vF7zxoSi-Azz"
      },
      "source": [
        "We can next identify the regions to which the transcription factors bind, in terms of genomic features(Promoter, intron, exon etc.). "
      ]
    },
    {
      "cell_type": "code",
      "metadata": {
        "id": "xKzPPt7q2KZX"
      },
      "source": [
        "%%R\n",
        "peakAnnoList <- lapply(samplefiles, annotatePeak, TxDb=txdb, \n",
        "                       tssRegion=c(-3000, 3000), verbose=FALSE)\n",
        "peakAnnoList"
      ],
      "execution_count": null,
      "outputs": []
    },
    {
      "cell_type": "markdown",
      "metadata": {
        "id": "YZE9erbf_I52"
      },
      "source": [
        "As expected a higher proportion of the binding sites is located in the promoter regions. \n",
        "\n",
        "We can also create a graphical output with the binding sites annotations. "
      ]
    },
    {
      "cell_type": "code",
      "metadata": {
        "id": "4inUeI0dC6un"
      },
      "source": [
        "%%R\n",
        "plotAnnoBar(peakAnnoList)"
      ],
      "execution_count": null,
      "outputs": []
    },
    {
      "cell_type": "markdown",
      "metadata": {
        "id": "HT1bs6Po_UaY"
      },
      "source": [
        "We've seen that TBP binds to many more sites compared to NF-YA, but let's find out how many binding sites are common for the 2 transcription factors. "
      ]
    },
    {
      "cell_type": "code",
      "metadata": {
        "id": "hRx8Uh-14lMt"
      },
      "source": [
        "%%R\n",
        "genes= lapply(peakAnnoList, function(i) as.data.frame(i)$geneId)\n",
        "vennplot(genes)"
      ],
      "execution_count": null,
      "outputs": []
    }
  ]
}